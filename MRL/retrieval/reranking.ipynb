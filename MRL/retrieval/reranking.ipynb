{
 "cells": [
  {
   "cell_type": "code",
   "execution_count": 1,
   "id": "72ee88c8",
   "metadata": {},
   "outputs": [],
   "source": [
    "import pandas as pd\n",
    "import numpy as np\n",
    "from sklearn.preprocessing import normalize\n",
    "import os\n",
    "import time"
   ]
  },
  {
   "cell_type": "markdown",
   "id": "e47f81ed",
   "metadata": {},
   "source": [
    "## Configuration Variables"
   ]
  },
  {
   "cell_type": "code",
   "execution_count": 2,
   "id": "763bdc1f",
   "metadata": {},
   "outputs": [],
   "source": [
    "model = \"mrl/\" # mrl, mrl_e, ff\n",
    "root = \"../inference/\"\n",
    "use_funnel = True\n",
    "index_type = 'exactl2' # exactl2, hnsw8, hnsw32\n",
    "dataset = '1K' # 1K, 4K, V2\n",
    "\n",
    "if not use_funnel:\n",
    "    nn_dir = root+\"neighbors/reranked/\"+model\n",
    "    rerank_dim = [16]\n",
    "    shortlist = [200]\n",
    "else:\n",
    "    nn_dir = root+\"neighbors/funnel_retrieval/\"+model\n",
    "    # rerank_dim: scale at which neighbors will be re-ordered based on L2 distance\n",
    "    rerank_dim = [16, 32, 64, 128, 2048] # rerank cascade\n",
    "    # shortlist_set: set of shortlist cascades\n",
    "    shortlist_set = [[800,400,200,50,10], [400,200,50,25,10], [200,100,50,25,10]] \n",
    "\n",
    "max_rerank_dim = 2048 # maximum dimensionality at which reranking may occur, usually = 2048\n",
    "retrieval_dim = 8 # scale at which to retrieve 2048-NN for all samples in query set\n",
    "\n",
    "if not os.path.isdir(nn_dir):\n",
    "    os.makedirs(nn_dir)"
   ]
  },
  {
   "cell_type": "markdown",
   "id": "73452fe1",
   "metadata": {},
   "source": [
    "## Load Database and Query vectors"
   ]
  },
  {
   "cell_type": "code",
   "execution_count": 3,
   "id": "11554e32",
   "metadata": {},
   "outputs": [
    {
     "name": "stdout",
     "output_type": "stream",
     "text": [
      "Load database vectors (1281167 x 2048), time= 3.465177\n",
      "Load query vectors (50000 x 2048), time= 0.142086\n",
      "Normalization time= 9.972036\n"
     ]
    }
   ],
   "source": [
    "if model == 'mrl/':\n",
    "    config = 'mrl1_e0_ff2048'\n",
    "elif model == 'mrl_e/':\n",
    "    config = 'mrl0_e1_ff2048'\n",
    "elif model == 'ff/':\n",
    "    config = 'mrl0_e0_ff16'\n",
    "else: \n",
    "    raise Exception(\"Unsupported pretrained model.\")\n",
    "\n",
    "db_csv = dataset + '_train_' + config + '-X.npy' # naming format as in R50_inference.py\n",
    "query_csv = dataset + '_val_' + config + '-X.npy'\n",
    "\n",
    "start = time.time()\n",
    "db_rerank = np.load(root+db_csv)[:, :max_rerank_dim]\n",
    "end = time.time() - start\n",
    "print(\"Load database vectors (%d x %d), time= %f\" % (db_rerank.shape[0], db_rerank.shape[1], end))\n",
    "\n",
    "start = time.time()\n",
    "queries = np.load(root+query_csv)[:, :max_rerank_dim]\n",
    "end = time.time() - start\n",
    "print(\"Load query vectors (%d x %d), time= %f\" % (queries.shape[0], queries.shape[1], end))\n",
    "\n",
    "start = time.time()\n",
    "queries = normalize(queries, axis=1)\n",
    "db_rerank = normalize(db_rerank, axis=1)\n",
    "end = time.time() - start\n",
    "print(\"Normalization time= %f\" % (end))"
   ]
  },
  {
   "cell_type": "markdown",
   "id": "460d7628",
   "metadata": {},
   "source": [
    "## Load k-NN array"
   ]
  },
  {
   "cell_type": "code",
   "execution_count": 4,
   "id": "983419a3",
   "metadata": {},
   "outputs": [
    {
     "name": "stdout",
     "output_type": "stream",
     "text": [
      "Loaded exactl2_8dim_2048shortlist_1K.csv : (50000 x 2048), time= 13.080295\n"
     ]
    }
   ],
   "source": [
    "start = time.time()\n",
    "NN_file = root+\"neighbors/\"+model+index_type+\"_\"+ str(retrieval_dim)+\"dim_2048shortlist_\"+dataset+\".csv\"\n",
    "neighbors = pd.read_csv(NN_file, header=None).to_numpy()\n",
    "end = time.time() - start\n",
    "print(\"Loaded %s : (%d x %d), time= %f\" % (NN_file.split(\"/\")[-1], neighbors.shape[0], neighbors.shape[1], end))"
   ]
  },
  {
   "cell_type": "code",
   "execution_count": 5,
   "id": "1a124302",
   "metadata": {},
   "outputs": [
    {
     "name": "stdout",
     "output_type": "stream",
     "text": [
      "\n",
      "DB for reranking:  (1281167, 2048)\n",
      "Queries for reranking:  (50000, 2048)\n",
      "k-NN array:  (50000, 2048)\n"
     ]
    }
   ],
   "source": [
    "print(\"\\nDB for reranking: \", db_rerank.shape)\n",
    "print(\"Queries for reranking: \", queries.shape)\n",
    "print(\"k-NN array: \", neighbors.shape)"
   ]
  },
  {
   "cell_type": "code",
   "execution_count": 6,
   "id": "7a628d9a",
   "metadata": {},
   "outputs": [],
   "source": [
    "def rerank(use_funnel, rerank_dim, shortlist, neighbors):\n",
    "    \"\"\" Return shortlist of 2048-NN reranked with D_s and retrieved with D_r \n",
    "    \n",
    "    Keyword arguments:\n",
    "    use_funnel -- boolean flag to rerank in a cascaded fashion via funnel retrieval\n",
    "    rerank_dim -- dimensionality at which to rerank shortlist of k-NN\n",
    "    shortlist -- length of k-NN retrieved\n",
    "    neighbors -- array of k-NN indexed on db_csv\n",
    "    \"\"\"\n",
    "    # ensure these match for funnel\n",
    "    if use_funnel:\n",
    "        assert len(rerank_dim) == len(shortlist)\n",
    "\n",
    "    for i in range(len(rerank_dim)):\n",
    "        db_rerank_new = db_rerank[:, :rerank_dim[i]]\n",
    "        neighbors_new = neighbors[:, :shortlist[i]]\n",
    "\n",
    "        # iterate over every query and re-order 2048-NN based on rerank_dim representation distances\n",
    "        for j in range(len(neighbors)):\n",
    "            query_vector = queries[j][:rerank_dim[i]]\n",
    "            #print(\"Query vector: \", query_vector.shape)\n",
    "            nn_indices = neighbors_new[j][:shortlist[i]]\n",
    "\n",
    "            #NN_vectors_original = normalize(db_retrieval[nn_indices].squeeze(), axis = 1)\n",
    "            NN_vectors_higher_dim = normalize(db_rerank_new[nn_indices].squeeze(), axis=1)\n",
    "            #print(\"NN vector original and higher dim: \", NN_vectors_original.shape, NN_vectors_higher_dim.shape)\n",
    "\n",
    "            #L2_distances_orig = np.linalg.norm(NN_vectors_original - query_vector[:retrieval_dim], axis=1)\n",
    "            #print(\"Sorting at retrieval dim: \", np.argsort(L2_distances_orig)[:10]) #sanity test this should be 0, 1, 2 ...\n",
    "            L2_distances_reranked = np.linalg.norm(NN_vectors_higher_dim - query_vector[:rerank_dim[i]], axis=1)\n",
    "            #print(\"Sorting at rerank dim: \", np.argsort(L2_distances_reranked)[:10]) #reorder indices based on higher dim representations\n",
    "\n",
    "            reranked_neighbor_indices = np.argsort(L2_distances_reranked)\n",
    "            reranked_neighbors = neighbors_new[j, reranked_neighbor_indices]\n",
    "            neighbors_new[j] = reranked_neighbors\n",
    "        #print(\"DB rerank: \", db_rerank_new.shape)\n",
    "        #print(\"Neighbors: \", neighbors_new.shape)\n",
    "        neighbors = neighbors_new\n",
    "    return neighbors"
   ]
  },
  {
   "cell_type": "markdown",
   "id": "cbd9efcf",
   "metadata": {},
   "source": [
    "## Neighbors Shortlist Generation"
   ]
  },
  {
   "cell_type": "code",
   "execution_count": 7,
   "id": "2c779d06",
   "metadata": {},
   "outputs": [
    {
     "name": "stdout",
     "output_type": "stream",
     "text": [
      "\n",
      "Retrieve @8 + funnel retrieval @[16, 32, 64, 128, 2048] with shortlist [800, 400, 200, 50, 10], time = 53.174906\n",
      "(50000, 10)\n",
      "Saving config:  8dim-cascade[16, 32, 64, 128, 2048]_shortlist[800, 400, 200, 50, 10]_1K_exactl2.csv\n",
      "\n",
      "Retrieve @8 + funnel retrieval @[16, 32, 64, 128, 2048] with shortlist [400, 200, 50, 25, 10], time = 39.799965\n",
      "(50000, 10)\n",
      "Saving config:  8dim-cascade[16, 32, 64, 128, 2048]_shortlist[400, 200, 50, 25, 10]_1K_exactl2.csv\n",
      "\n",
      "Retrieve @8 + funnel retrieval @[16, 32, 64, 128, 2048] with shortlist [200, 100, 50, 25, 10], time = 35.106180\n",
      "(50000, 10)\n",
      "Saving config:  8dim-cascade[16, 32, 64, 128, 2048]_shortlist[200, 100, 50, 25, 10]_1K_exactl2.csv\n"
     ]
    }
   ],
   "source": [
    "if not use_funnel:\n",
    "    # Retrieve k-NN array with D_r and rerank with D_s\n",
    "    for dim in rerank_dim:\n",
    "        start = time.time()\n",
    "        neighbors_reranked = rerank(use_funnel, [dim], shortlist, neighbors)\n",
    "        end = time.time() - start\n",
    "        print(\"\\nD_r = %d , D_s = %d, time = %f\" % (retrieval_dim, dim, end))\n",
    "\n",
    "        neighbors_df = pd.DataFrame(neighbors_reranked)\n",
    "        print(neighbors_df.shape)\n",
    "\n",
    "        filename = str(retrieval_dim)+\"dim-reranked\"+str(dim)+\"_\"+str(shortlist[0])+\"shortlist_\"+dataset+\"_\"+index_type+\".csv\"\n",
    "\n",
    "        print(\"Saving config: \", filename)\n",
    "        pd.DataFrame(neighbors_df).to_csv(nn_dir+filename, header=None, index=None)\n",
    "        \n",
    "else:\n",
    "    # Funnel Retrieval (increase dims and reduce shortlist length in sync)\n",
    "    for shortlist in shortlist_set:\n",
    "        start = time.time()\n",
    "        NN_cascade = rerank(1, rerank_dim, shortlist, neighbors)\n",
    "        end = time.time() - start\n",
    "        print(\"\\nRetrieve @%d + funnel retrieval @%s with shortlist %s, time = %f\" \n",
    "              % (retrieval_dim, rerank_dim, shortlist, end))\n",
    "\n",
    "        neighbors_df = pd.DataFrame(NN_cascade)\n",
    "        print(neighbors_df.shape)\n",
    "\n",
    "        filename = str(retrieval_dim)+\"dim-cascade\"+str(rerank_dim)+\"_\"+\"shortlist\"+str(shortlist)+\"_\"+dataset+\"_\"+index_type+\".csv\"\n",
    "\n",
    "        print(\"Saving config: \", filename)\n",
    "        pd.DataFrame(neighbors_df).to_csv(nn_dir+filename, header=None, index=None)"
   ]
  }
 ],
 "metadata": {
  "jupytext": {
   "cell_metadata_filter": "-all",
   "notebook_metadata_filter": "-all"
  },
  "kernelspec": {
   "display_name": "Python 3 (ipykernel)",
   "language": "python",
   "name": "python3"
  },
  "language_info": {
   "codemirror_mode": {
    "name": "ipython",
    "version": 3
   },
   "file_extension": ".py",
   "mimetype": "text/x-python",
   "name": "python",
   "nbconvert_exporter": "python",
   "pygments_lexer": "ipython3",
   "version": "3.9.13"
  }
 },
 "nbformat": 4,
 "nbformat_minor": 5
}
