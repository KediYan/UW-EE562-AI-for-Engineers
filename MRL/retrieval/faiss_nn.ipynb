{
 "cells": [
  {
   "cell_type": "code",
   "execution_count": 1,
   "id": "cc5c9e14",
   "metadata": {},
   "outputs": [],
   "source": [
    "import numpy as np\n",
    "import faiss\n",
    "import time\n",
    "import pandas as pd\n",
    "from os import path, makedirs"
   ]
  },
  {
   "cell_type": "code",
   "execution_count": 2,
   "id": "33e3245a",
   "metadata": {},
   "outputs": [
    {
     "name": "stdout",
     "output_type": "stream",
     "text": [
      "number of GPUs: 1\n"
     ]
    }
   ],
   "source": [
    "ngpus = faiss.get_num_gpus()\n",
    "print(\"number of GPUs:\", ngpus)"
   ]
  },
  {
   "cell_type": "markdown",
   "id": "20116c14",
   "metadata": {},
   "source": [
    "## Configuration Variables"
   ]
  },
  {
   "cell_type": "code",
   "execution_count": 3,
   "id": "3be50514",
   "metadata": {},
   "outputs": [],
   "source": [
    "root = '../inference/'\n",
    "model = \"mrl/\" # mrl/, mrl_e/, ff/, slimmable/\n",
    "dataset = '1K' # 1K, 4K, V2\n",
    "index_type = 'exactl2' # exactl2, hnsw8, hnsw32\n",
    "hnsw_max_neighbors = 32 # 8, 32\n",
    "k = 2048 # shortlist length, default set to max supported by FAISS\n",
    "nesting_list = [8, 16, 32, 64, 128, 256, 512, 1024, 2048]"
   ]
  },
  {
   "cell_type": "markdown",
   "id": "f4401b8c",
   "metadata": {},
   "source": [
    "## FAISS Index Building and NN Search"
   ]
  },
  {
   "cell_type": "code",
   "execution_count": 4,
   "id": "67862f80",
   "metadata": {},
   "outputs": [],
   "source": [
    "if model == 'mrl/':\n",
    "    config = 'mrl1_e0_ff2048'\n",
    "elif model == 'mrl_e/':\n",
    "    config = 'mrl0_e1_ff2048'\n",
    "elif model == 'ff/':\n",
    "    config = 'mrl0_e0_ff16'\n",
    "else: \n",
    "    raise Exception(\"Unsupported pretrained model.\")\n",
    "    \n",
    "db_csv = dataset + '_train_' + config + '-X.npy'\n",
    "query_csv = dataset + '_val_' + config + '-X.npy'\n",
    "\n",
    "# ImageNetv2 is only a test set; set database to ImageNet-1K\n",
    "if dataset == 'V2':\n",
    "    db_csv = '1K_train_' + config + '-X.npy'"
   ]
  },
  {
   "cell_type": "code",
   "execution_count": 5,
   "id": "31543d33",
   "metadata": {},
   "outputs": [
    {
     "name": "stdout",
     "output_type": "stream",
     "text": [
      "CSV file load time= 3.612 sec\n"
     ]
    }
   ],
   "source": [
    "start = time.time()\n",
    "database = np.load(root+db_csv)\n",
    "queryset = np.load(root+query_csv)\n",
    "print(\"CSV file load time= %0.3f sec\" % (time.time() - start))"
   ]
  },
  {
   "cell_type": "code",
   "execution_count": 6,
   "id": "5fd3e4f5",
   "metadata": {},
   "outputs": [],
   "source": [
    "if index_type == 'exactl2':\n",
    "    use_gpu = 1 # GPU inference for exact search\n",
    "else:\n",
    "    use_gpu = 0 # GPU inference for HNSW is currently not supported by FAISS"
   ]
  },
  {
   "cell_type": "code",
   "execution_count": 7,
   "id": "87ea3f22",
   "metadata": {},
   "outputs": [
    {
     "name": "stdout",
     "output_type": "stream",
     "text": [
      "Generating index file: ../inference/index_files/mrl/1K_8dim_exactl2.index\n",
      "database:  (1281167, 8)\n",
      "Building Exact L2 Index\n",
      "GPU Index build time= 0.050 sec\n",
      "queries:  (50000, 8)\n",
      "GPU 2048-NN search time= 5.013903 sec\n",
      "NN file write time= 24.832 sec\n",
      "\n",
      "Generating index file: ../inference/index_files/mrl/1K_16dim_exactl2.index\n",
      "database:  (1281167, 16)\n",
      "Building Exact L2 Index\n",
      "GPU Index build time= 0.099 sec\n",
      "queries:  (50000, 16)\n",
      "GPU 2048-NN search time= 5.093787 sec\n",
      "NN file write time= 24.277 sec\n",
      "\n",
      "Generating index file: ../inference/index_files/mrl/1K_32dim_exactl2.index\n",
      "database:  (1281167, 32)\n",
      "Building Exact L2 Index\n",
      "GPU Index build time= 0.197 sec\n",
      "queries:  (50000, 32)\n",
      "GPU 2048-NN search time= 5.151416 sec\n",
      "NN file write time= 24.433 sec\n",
      "\n",
      "Generating index file: ../inference/index_files/mrl/1K_64dim_exactl2.index\n",
      "database:  (1281167, 64)\n",
      "Building Exact L2 Index\n",
      "GPU Index build time= 0.351 sec\n",
      "queries:  (50000, 64)\n",
      "GPU 2048-NN search time= 4.366373 sec\n",
      "NN file write time= 24.392 sec\n",
      "\n",
      "Generating index file: ../inference/index_files/mrl/1K_128dim_exactl2.index\n",
      "database:  (1281167, 128)\n",
      "Building Exact L2 Index\n",
      "GPU Index build time= 0.668 sec\n",
      "queries:  (50000, 128)\n",
      "GPU 2048-NN search time= 4.549442 sec\n",
      "NN file write time= 24.309 sec\n",
      "\n",
      "Generating index file: ../inference/index_files/mrl/1K_256dim_exactl2.index\n",
      "database:  (1281167, 256)\n",
      "Building Exact L2 Index\n",
      "GPU Index build time= 1.310 sec\n",
      "queries:  (50000, 256)\n",
      "GPU 2048-NN search time= 5.370316 sec\n",
      "NN file write time= 24.546 sec\n",
      "\n",
      "Generating index file: ../inference/index_files/mrl/1K_512dim_exactl2.index\n",
      "database:  (1281167, 512)\n",
      "Building Exact L2 Index\n",
      "GPU Index build time= 2.600 sec\n",
      "queries:  (50000, 512)\n",
      "GPU 2048-NN search time= 7.017611 sec\n",
      "NN file write time= 24.270 sec\n",
      "\n",
      "Generating index file: ../inference/index_files/mrl/1K_1024dim_exactl2.index\n",
      "database:  (1281167, 1024)\n",
      "Building Exact L2 Index\n",
      "GPU Index build time= 5.258 sec\n",
      "queries:  (50000, 1024)\n",
      "GPU 2048-NN search time= 10.563889 sec\n",
      "NN file write time= 24.478 sec\n",
      "\n",
      "Generating index file: ../inference/index_files/mrl/1K_2048dim_exactl2.index\n",
      "database:  (1281167, 2048)\n",
      "Building Exact L2 Index\n",
      "GPU Index build time= 14.708 sec\n",
      "queries:  (50000, 2048)\n",
      "GPU 2048-NN search time= 18.236763 sec\n",
      "NN file write time= 24.240 sec\n",
      "\n"
     ]
    }
   ],
   "source": [
    "for retrieval_dim in nesting_list:\n",
    "    if not path.isdir(root+'index_files/'+model):\n",
    "        makedirs(root+'index_files/'+model)\n",
    "    index_file = root+'index_files/'+model+dataset+'_'+str(retrieval_dim)+'dim_'+index_type+'.index'\n",
    "    \n",
    "    # Load or build index\n",
    "    if path.exists(index_file):\n",
    "        print(\"Loading index file: \" + index_file)\n",
    "        cpu_index = faiss.read_index(index_file)\n",
    "\n",
    "    else:\n",
    "        print(\"Generating index file: \" + index_file)\n",
    "        \n",
    "        xb = np.ascontiguousarray(np.load(root+db_csv)[:,:retrieval_dim], dtype=np.float32)\n",
    "        faiss.normalize_L2(xb)\n",
    "        d = xb.shape[1]                           # dimension\n",
    "        nb = xb.shape[0]                       # database size\n",
    "        print(\"database: \", xb.shape)\n",
    "\n",
    "        start = time.time()\n",
    "        if index_type == 'exactl2':\n",
    "            print(\"Building Exact L2 Index\")\n",
    "            cpu_index = faiss.IndexFlatL2(d)   # build the index\n",
    "        else:\n",
    "            print(\"Building HNSW%d Index\" % hnsw_max_neighbors)\n",
    "            cpu_index = faiss.IndexHNSWFlat(d, hnsw_max_neighbors)\n",
    "        cpu_index.add(xb)                  # add vectors to the index\n",
    "        faiss.write_index(cpu_index, index_file)\n",
    "        print(\"GPU Index build time= %0.3f sec\" % (time.time() - start))\n",
    "    \n",
    "    if use_gpu:\n",
    "        index = faiss.index_cpu_to_all_gpus(\n",
    "            cpu_index\n",
    "        )\n",
    "    else:\n",
    "        index = cpu_index\n",
    "    \n",
    "    # Load the queries\n",
    "    xq = np.ascontiguousarray(np.load(root+query_csv)[:,:retrieval_dim], dtype=np.float32)\n",
    "    faiss.normalize_L2(xq)\n",
    "    nq = xq.shape[0]\n",
    "    print(\"queries: \", xq.shape)\n",
    "\n",
    "    start = time.time()\n",
    "    D, I = index.search(xq, k)\n",
    "    end = time.time() - start\n",
    "    print(\"GPU %d-NN search time= %f sec\" % (k, end))\n",
    "    \n",
    "    start = time.time()\n",
    "    if not path.isdir(root+\"neighbors/\"+model):\n",
    "        makedirs(root+\"neighbors/\"+model)\n",
    "    nn_dir = root+\"neighbors/\"+model+index_type+\"_\"+str(retrieval_dim)+\"dim_\"+str(k)+\"shortlist_\"+dataset+\".csv\"\n",
    "    pd.DataFrame(I).to_csv(nn_dir, header=None, index=None)\n",
    "    end = time.time() - start\n",
    "    print(\"NN file write time= %0.3f sec\\n\" % (end))\n"
   ]
  }
 ],
 "metadata": {
  "jupytext": {
   "cell_metadata_filter": "-all",
   "notebook_metadata_filter": "-all"
  },
  "kernelspec": {
   "display_name": "Python 3 (ipykernel)",
   "language": "python",
   "name": "python3"
  },
  "language_info": {
   "codemirror_mode": {
    "name": "ipython",
    "version": 3
   },
   "file_extension": ".py",
   "mimetype": "text/x-python",
   "name": "python",
   "nbconvert_exporter": "python",
   "pygments_lexer": "ipython3",
   "version": "3.9.13"
  }
 },
 "nbformat": 4,
 "nbformat_minor": 5
}
